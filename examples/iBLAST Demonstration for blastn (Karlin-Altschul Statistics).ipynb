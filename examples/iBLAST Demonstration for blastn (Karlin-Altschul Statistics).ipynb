{
 "cells": [
  {
   "cell_type": "markdown",
   "metadata": {
    "deletable": true,
    "editable": true
   },
   "source": [
    "# Setting Environment"
   ]
  },
  {
   "cell_type": "markdown",
   "metadata": {},
   "source": [
    "Download \"protdb\" and \"dnadb\" folders from [here](https://drive.google.com/open?id=1WIsTMIvhL_J_7dBpqaiRBZZG7sVCqBNH) to examples folder."
   ]
  },
  {
   "cell_type": "code",
   "execution_count": 1,
   "metadata": {
    "collapsed": false,
    "deletable": true,
    "editable": true
   },
   "outputs": [],
   "source": [
    "import sys\n",
    "import os\n",
    "sys.path.insert(0, '../source')\n",
    "import DBUtility as DB\n",
    "import iBLAST\n",
    "import subprocess\n",
    "import shlex\n",
    "\n",
    "def execute_command(command):\n",
    "    command_tokens = shlex.split(command)\n",
    "    result = subprocess.run(command_tokens, stdout=subprocess.PIPE)\n",
    "    print(result.stdout.decode('utf-8'))\n"
   ]
  },
  {
   "cell_type": "markdown",
   "metadata": {
    "deletable": true,
    "editable": true
   },
   "source": [
    "# Creating Initial Database"
   ]
  },
  {
   "cell_type": "code",
   "execution_count": 2,
   "metadata": {
    "collapsed": false,
    "deletable": true,
    "editable": true
   },
   "outputs": [
    {
     "name": "stdout",
     "output_type": "stream",
     "text": [
      "\n",
      "2.6.0\n",
      "\n"
     ]
    }
   ],
   "source": [
    "execute_command(\"rm incblast.db\")\n",
    "DB.initialize_database()\n",
    "execute_command(\"blastdb_aliastool -dblist \\\"dnadb/nt.00 dnadb/nt.01\\\" -dbtype nucl -out dnadb/smallnt -title \\\"smallnt\\\"\")"
   ]
  },
  {
   "cell_type": "markdown",
   "metadata": {
    "collapsed": true,
    "deletable": true,
    "editable": true
   },
   "source": [
    "# Run iBLAST at t = 0  "
   ]
  },
  {
   "cell_type": "code",
   "execution_count": 3,
   "metadata": {
    "collapsed": false,
    "deletable": true,
    "editable": true
   },
   "outputs": [
    {
     "name": "stdout",
     "output_type": "stream",
     "text": [
      "blastn -db dnadb/smallnt -query dna-query-10.fasta -outfmt 5 -out dnadb/result.xml\n",
      "program: blastn >\n",
      "nucl search\n",
      "dnadb/smallnt dna-query-10.fasta\n",
      "No record found for this query. A fresh blast search will be performed\n",
      "program: blastn >\n",
      "nucl search\n",
      "\n",
      "\n",
      "1\n",
      "\n"
     ]
    }
   ],
   "source": [
    "execute_command(\"python3 ../source/iBLAST.py \\\"blastn -db dnadb/smallnt -query dna-query-10.fasta -outfmt 5 -out dnadb/result.xml\\\"\")"
   ]
  },
  {
   "cell_type": "markdown",
   "metadata": {
    "deletable": true,
    "editable": true
   },
   "source": [
    "# Simulate Incremental Addition of Sequences"
   ]
  },
  {
   "cell_type": "code",
   "execution_count": 4,
   "metadata": {
    "collapsed": false,
    "deletable": true,
    "editable": true
   },
   "outputs": [
    {
     "name": "stdout",
     "output_type": "stream",
     "text": [
      "\n"
     ]
    }
   ],
   "source": [
    "execute_command(\"blastdb_aliastool -dblist \\\"dnadb/nt.00 dnadb/nt.01 dnadb/nt.02\\\" -dbtype nucl -out dnadb/smallnt -title \\\"smallnt\\\"\")"
   ]
  },
  {
   "cell_type": "markdown",
   "metadata": {
    "deletable": true,
    "editable": true
   },
   "source": [
    "# Run iBLAST at t = 1"
   ]
  },
  {
   "cell_type": "code",
   "execution_count": 5,
   "metadata": {
    "collapsed": false,
    "deletable": true,
    "editable": true
   },
   "outputs": [
    {
     "name": "stdout",
     "output_type": "stream",
     "text": [
      "blastn -db dnadb/smallnt -query dna-query-10.fasta -outfmt 5 -out dnadb/result.xml\n",
      "program: blastn >\n",
      "nucl search\n",
      "dnadb/smallnt dna-query-10.fasta\n",
      "An existing record has been found. An incremental blast search will be performed\n",
      "output file:  dnadb/result.xml\n",
      "{'nt.01', 'nt.00'}\n",
      "{'nt.02', 'nt.01', 'nt.00'}\n",
      "{'nt.02'}\n",
      "Command:  blastdb_aliastool -dbtype nucl -dblist \"nt.02\" -out dnadb/smallnt-delta -title dnadb/smallnt-delta\n",
      "\n",
      "blastn -query dna-query-10.fasta -out dnadb/result.xml-delta.xml -db dnadb/smallnt-delta -outfmt 5\n",
      "\n",
      "output file:  dnadb/result.xml\n",
      "Received output file name:  dnadb/result.xml\n",
      "Number of records: 10\n",
      "Number of records: 10\n",
      "Writing to Output File:  dnadb/result.xml\n",
      "Done writing. going back to entry point.\n",
      "\n"
     ]
    }
   ],
   "source": [
    "execute_command(\"python3 ../source/iBLAST.py \\\"blastn -db dnadb/smallnt -query dna-query-10.fasta -outfmt 5 -out dnadb/result.xml\\\"\")"
   ]
  },
  {
   "cell_type": "code",
   "execution_count": null,
   "metadata": {
    "collapsed": true,
    "deletable": true,
    "editable": true
   },
   "outputs": [],
   "source": []
  }
 ],
 "metadata": {
  "kernelspec": {
   "display_name": "Python 3",
   "language": "python",
   "name": "python3"
  },
  "language_info": {
   "codemirror_mode": {
    "name": "ipython",
    "version": 3
   },
   "file_extension": ".py",
   "mimetype": "text/x-python",
   "name": "python",
   "nbconvert_exporter": "python",
   "pygments_lexer": "ipython3",
   "version": "3.5.2"
  }
 },
 "nbformat": 4,
 "nbformat_minor": 2
}
