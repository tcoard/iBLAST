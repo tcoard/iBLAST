{
 "cells": [
  {
   "cell_type": "markdown",
   "metadata": {
    "deletable": true,
    "editable": true
   },
   "source": [
    "# Setting Environment"
   ]
  },
  {
   "cell_type": "markdown",
   "metadata": {
    "collapsed": true,
    "deletable": true,
    "editable": true
   },
   "source": [
    "Download \"protdb\" and \"dnadb\" folders from [here](https://drive.google.com/open?id=1WIsTMIvhL_J_7dBpqaiRBZZG7sVCqBNH) to examples folder."
   ]
  },
  {
   "cell_type": "code",
   "execution_count": 1,
   "metadata": {
    "collapsed": false,
    "deletable": true,
    "editable": true
   },
   "outputs": [],
   "source": [
    "import sys\n",
    "import os\n",
    "sys.path.insert(0, '../source')\n",
    "import DBUtility as DB\n",
    "import iBLAST\n",
    "import subprocess\n",
    "import shlex\n",
    "\n",
    "def execute_command(command):\n",
    "    command_tokens = shlex.split(command)\n",
    "    result = subprocess.run(command_tokens, stdout=subprocess.PIPE)\n",
    "    print(result.stdout.decode('utf-8'))\n"
   ]
  },
  {
   "cell_type": "markdown",
   "metadata": {
    "deletable": true,
    "editable": true
   },
   "source": [
    "# Creating Initial Database"
   ]
  },
  {
   "cell_type": "code",
   "execution_count": 2,
   "metadata": {
    "collapsed": false,
    "deletable": true,
    "editable": true
   },
   "outputs": [
    {
     "name": "stdout",
     "output_type": "stream",
     "text": [
      "\n",
      "2.6.0\n",
      "\n"
     ]
    }
   ],
   "source": [
    "execute_command(\"rm incblast.db\")\n",
    "DB.initialize_database()\n",
    "execute_command(\"blastdb_aliastool -dblist \\\"protdb/nr.00 protdb/nr.01\\\" -dbtype prot -out protdb/smallnr -title \\\"smallnr\\\"\")"
   ]
  },
  {
   "cell_type": "markdown",
   "metadata": {
    "collapsed": true,
    "deletable": true,
    "editable": true
   },
   "source": [
    "# Run iBLAST at t = 0  "
   ]
  },
  {
   "cell_type": "code",
   "execution_count": 3,
   "metadata": {
    "collapsed": false,
    "deletable": true,
    "editable": true
   },
   "outputs": [
    {
     "name": "stdout",
     "output_type": "stream",
     "text": [
      "blastp -db protdb/smallnr -query prot-query-10.fasta -outfmt 5 -out protdb/result.xml\n",
      "program: blastp >\n",
      "protein search\n",
      "protdb/smallnr prot-query-10.fasta\n",
      "No record found for this query. A fresh blast search will be performed\n",
      "program: blastp >\n",
      "protein search\n",
      "\n",
      "\n",
      "1\n",
      "\n"
     ]
    }
   ],
   "source": [
    "execute_command(\"python3 ../source/iBLAST.py \\\"blastp -db protdb/smallnr -query prot-query-10.fasta -outfmt 5 -out protdb/result.xml\\\"\")"
   ]
  },
  {
   "cell_type": "markdown",
   "metadata": {
    "deletable": true,
    "editable": true
   },
   "source": [
    "# Simulate Incremental Addition of Sequences"
   ]
  },
  {
   "cell_type": "code",
   "execution_count": 4,
   "metadata": {
    "collapsed": false,
    "deletable": true,
    "editable": true
   },
   "outputs": [
    {
     "name": "stdout",
     "output_type": "stream",
     "text": [
      "\n"
     ]
    }
   ],
   "source": [
    "execute_command(\"blastdb_aliastool -dblist \\\"protdb/nr.00 protdb/nr.01 protdb/nr.02\\\" -dbtype prot -out protdb/smallnr -title \\\"smallnr\\\"\")"
   ]
  },
  {
   "cell_type": "markdown",
   "metadata": {
    "deletable": true,
    "editable": true
   },
   "source": [
    "# Run iBLAST at t = 1"
   ]
  },
  {
   "cell_type": "code",
   "execution_count": 5,
   "metadata": {
    "collapsed": false,
    "deletable": true,
    "editable": true
   },
   "outputs": [
    {
     "name": "stdout",
     "output_type": "stream",
     "text": [
      "blastp -db protdb/smallnr -query prot-query-10.fasta -outfmt 5 -out protdb/result.xml\n",
      "program: blastp >\n",
      "protein search\n",
      "protdb/smallnr prot-query-10.fasta\n",
      "An existing record has been found. An incremental blast search will be performed\n",
      "output file:  protdb/result.xml\n",
      "{'nr.00', 'nr.01'}\n",
      "{'nr.00', 'nr.02', 'nr.01'}\n",
      "{'nr.02'}\n",
      "Command:  blastdb_aliastool -dbtype prot -dblist \"nr.02\" -out protdb/smallnr-delta -title protdb/smallnr-delta\n",
      "\n",
      "blastp -query prot-query-10.fasta -outfmt 5 -out protdb/result.xml-delta.xml -db protdb/smallnr-delta\n",
      "\n",
      "output file:  protdb/result.xml\n",
      "10\n",
      "Writing to Output File:  protdb/result.xml\n",
      "\n"
     ]
    }
   ],
   "source": [
    "execute_command(\"python3 ../source/iBLAST.py \\\"blastp -db protdb/smallnr -query prot-query-10.fasta -outfmt 5 -out protdb/result.xml\\\"\")"
   ]
  }
 ],
 "metadata": {
  "kernelspec": {
   "display_name": "Python 3",
   "language": "python",
   "name": "python3"
  },
  "language_info": {
   "codemirror_mode": {
    "name": "ipython",
    "version": 3
   },
   "file_extension": ".py",
   "mimetype": "text/x-python",
   "name": "python",
   "nbconvert_exporter": "python",
   "pygments_lexer": "ipython3",
   "version": "3.5.2"
  }
 },
 "nbformat": 4,
 "nbformat_minor": 2
}
